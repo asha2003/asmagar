{
 "cells": [
  {
   "cell_type": "code",
   "execution_count": 9,
   "metadata": {
    "collapsed": false
   },
   "outputs": [
    {
     "name": "stderr",
     "output_type": "stream",
     "text": [
      "/home/admin1/anaconda3/lib/python3.5/site-packages/sklearn/utils/validation.py:420: DataConversionWarning: Data with input dtype int64 was converted to float64 by StandardScaler.\n",
      "  warnings.warn(msg, DataConversionWarning)\n",
      "/home/admin1/anaconda3/lib/python3.5/site-packages/sklearn/utils/validation.py:420: DataConversionWarning: Data with input dtype int64 was converted to float64 by StandardScaler.\n",
      "  warnings.warn(msg, DataConversionWarning)\n"
     ]
    }
   ],
   "source": [
    "# -*- coding: utf-8 -*-\n",
    "\"\"\"\n",
    "\n",
    "\"\"\"\n",
    "import pickle\n",
    "import numpy as np\n",
    "import matplotlib.pyplot as plt\n",
    "import pandas as pd\n",
    "from sklearn.tree import DecisionTreeRegressor\n",
    "# Importing the dataset\n",
    "#dataset = pd.read_csv('181105_missing-data.csv')\n",
    "dataset = pd.read_csv('Position_Salaries.csv')\n",
    "X = dataset.iloc[:, 1:2].values #get a copy of dataset exclude last column\n",
    "y = dataset.iloc[:, 2].values #get array of dataset in column 1st\n",
    "\n",
    "# Splitting the dataset into the Training set and Test set\n",
    "\"\"\"from sklearn.model_selection import train_test_split\n",
    "X_train, X_test, y_train, y_test = train_test_split(X, y, test_size=1/3, random_state=0)\n",
    "\n",
    "\"\"\"\n",
    "\n",
    "# Scaling\n",
    "from sklearn.preprocessing import StandardScaler\n",
    "sc_X = StandardScaler()\n",
    "sc_y = StandardScaler()\n",
    "X = sc_X.fit_transform(X)\n",
    "\n",
    "\n",
    "\n",
    "regressor = DecisionTreeRegressor(random_state=0)\n",
    "regressor.fit(X, y)\n",
    "\n",
    "\n",
    "filename = 'finalized_model1.sav'\n",
    "pickle.dump(X, open(filename, 'wb'))\n",
    "pickle.dump(regressor, open(filename, 'wb'))\n",
    "\n",
    "\n",
    "\n",
    "\n",
    "\n",
    "# Predicting the Test set results\n",
    "#y_predict=sc_y.inverse_transform(regressor.predict(sc_X.transform(np.array([[6.5]]))))\n",
    "#print(y_predict)\n",
    "\n",
    "\n",
    "# arange for creating a range of values  \n",
    "# from min value of X to max value of X  \n",
    "# with a difference of 0.01 between two \n",
    "# consecutive values \n",
    "X_grid = np.arange(min(X), max(X), 0.01) \n",
    "  \n",
    "# reshape for reshaping the data into  \n",
    "# a len(X_grid)*1 array, i.e. to make \n",
    "# a column out of the X_grid values \n",
    "X_grid = X_grid.reshape((len(X_grid), 1))  \n",
    "\n",
    "from sklearn.tree import export_graphviz  \n",
    "  \n",
    "# export the decision tree to a tree.dot file \n",
    "# for visualizing the plot easily anywhere \n",
    "export_graphviz(regressor, out_file ='tree1.dot', \n",
    "               feature_names =['Position'])  \n",
    "  \n",
    "# scatter plot for original data \n",
    "plt.scatter(X, y, color = 'red') \n",
    "  \n",
    "# plot predicted data \n",
    "plt.plot(X_grid, regressor.predict(X_grid), color = 'blue')  \n",
    "plt.title('Salary to Position (Decision Tree Regression)')  \n",
    "  \n",
    "# specify X axis label \n",
    "plt.xlabel('Position') \n",
    "  \n",
    "# specify Y axis label \n",
    "plt.ylabel('Salary') \n",
    "  \n",
    "# show the plot \n",
    "plt.show() \n",
    "\n"
   ]
  },
  {
   "cell_type": "code",
   "execution_count": 8,
   "metadata": {
    "collapsed": false
   },
   "outputs": [
    {
     "name": "stdout",
     "output_type": "stream",
     "text": [
      "hi\n"
     ]
    }
   ],
   "source": [
    "print(\"hi\")"
   ]
  }
 ],
 "metadata": {
  "anaconda-cloud": {},
  "kernelspec": {
   "display_name": "Python [Root]",
   "language": "python",
   "name": "Python [Root]"
  },
  "language_info": {
   "codemirror_mode": {
    "name": "ipython",
    "version": 3
   },
   "file_extension": ".py",
   "mimetype": "text/x-python",
   "name": "python",
   "nbconvert_exporter": "python",
   "pygments_lexer": "ipython3",
   "version": "3.5.2"
  }
 },
 "nbformat": 4,
 "nbformat_minor": 0
}
