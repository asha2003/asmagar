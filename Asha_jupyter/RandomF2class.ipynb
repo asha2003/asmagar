{
 "cells": [
  {
   "cell_type": "code",
   "execution_count": 9,
   "metadata": {
    "collapsed": false
   },
   "outputs": [
    {
     "name": "stdout",
     "output_type": "stream",
     "text": [
      "     Amino_Acid  Predictor\n",
      "0      SLNLRETN          1\n",
      "1      AECFRIFD          1\n",
      "2      HLVEALYL          1\n",
      "3      TQIMFETF          1\n",
      "4      AEELAEIF          1\n",
      "5      PFIFEEEP          1\n",
      "6      PIVGAETF          1\n",
      "7      ETTALVCD          1\n",
      "8      GGVYATRS          1\n",
      "9      DAINTEFK          1\n",
      "10     DDLFFEAD          1\n",
      "11     SFIGMESA          1\n",
      "12     PTLLTEAP          1\n",
      "13     DQILIEIC          1\n",
      "14     AQTFYVNL          1\n",
      "15     QITLWQRP          1\n",
      "16     GSHLVEAL          1\n",
      "17     REAFRVFD          1\n",
      "18     YEEFVQMM          1\n",
      "19     GQVNYEEF          1\n",
      "20     LPVNGEFS          1\n",
      "21     ELEFPEGG          1\n",
      "22     VEVAEEEE          1\n",
      "23     DTVLEEMS          1\n",
      "24     GDALLERN          1\n",
      "25     AAKFERQH         -1\n",
      "26     MDSSTSAA         -1\n",
      "27     SSNYCNQM         -1\n",
      "28     TPGSRNLC         -1\n",
      "29     GSSKYPNC         -1\n",
      "...         ...        ...\n",
      "1595   PSINNETP         -1\n",
      "1596   PDIVIYQY         -1\n",
      "1597   WYQLEKEP         -1\n",
      "1598   TVNDIQKL         -1\n",
      "1599   FSVPLDED         -1\n",
      "1600   IFQSSMTK         -1\n",
      "1601   WTEYWQAT         -1\n",
      "1602   TKLGKAGY         -1\n",
      "1603   ETKLGKAG         -1\n",
      "1604   TVPVKLKP         -1\n",
      "1605   PAIFQSSM         -1\n",
      "1606   FKLPIQKE         -1\n",
      "1607   NQKTELQA         -1\n",
      "1608   KAGYVTNK         -1\n",
      "1609   WIPEWEFV         -1\n",
      "1610   HDHDHPFH         -1\n",
      "1611   ELELAENR          1\n",
      "1612   GWILGEHG          1\n",
      "1613   HYGFPTYG          1\n",
      "1614   GDAYFSVP          1\n",
      "1615   LWMGYELH          1\n",
      "1616   EKVYLAWV          1\n",
      "1617   VEICTEME          1\n",
      "1618   TQDFWEVQ          1\n",
      "1619   LEVNIVTD          1\n",
      "1620   QMIFEEHG          1\n",
      "1621   GWILAEHG          1\n",
      "1622   QAIYLALQ          1\n",
      "1623   DSADAEED          1\n",
      "1624   SKDLIAEI          1\n",
      "\n",
      "[1625 rows x 2 columns]\n"
     ]
    }
   ],
   "source": [
    "def split(word): \n",
    "    return [char for char in word]  \n",
    "\n",
    "import numpy as np\n",
    "import matplotlib.pyplot as plt\n",
    "import pandas as pd\n",
    "\n",
    "# Importing the dataset\n",
    "dataset = pd.read_csv('/home/admin1/Downloads/1625Data.csv')\n",
    "print(dataset)"
   ]
  },
  {
   "cell_type": "code",
   "execution_count": 10,
   "metadata": {
    "collapsed": false
   },
   "outputs": [
    {
     "name": "stdout",
     "output_type": "stream",
     "text": [
      "     Amino_Acid  Predictor FirstValue SecondValue\n",
      "0      SLNLRETN          1          R           E\n",
      "1      AECFRIFD          1          R           I\n",
      "2      HLVEALYL          1          A           L\n",
      "3      TQIMFETF          1          F           E\n",
      "4      AEELAEIF          1          A           E\n",
      "5      PFIFEEEP          1          E           E\n",
      "6      PIVGAETF          1          A           E\n",
      "7      ETTALVCD          1          L           V\n",
      "8      GGVYATRS          1          A           T\n",
      "9      DAINTEFK          1          T           E\n",
      "10     DDLFFEAD          1          F           E\n",
      "11     SFIGMESA          1          M           E\n",
      "12     PTLLTEAP          1          T           E\n",
      "13     DQILIEIC          1          I           E\n",
      "14     AQTFYVNL          1          Y           V\n",
      "15     QITLWQRP          1          W           Q\n",
      "16     GSHLVEAL          1          V           E\n",
      "17     REAFRVFD          1          R           V\n",
      "18     YEEFVQMM          1          V           Q\n",
      "19     GQVNYEEF          1          Y           E\n",
      "20     LPVNGEFS          1          G           E\n",
      "21     ELEFPEGG          1          P           E\n",
      "22     VEVAEEEE          1          E           E\n",
      "23     DTVLEEMS          1          E           E\n",
      "24     GDALLERN          1          L           E\n",
      "25     AAKFERQH         -1          E           R\n",
      "26     MDSSTSAA         -1          T           S\n",
      "27     SSNYCNQM         -1          C           N\n",
      "28     TPGSRNLC         -1          R           N\n",
      "29     GSSKYPNC         -1          Y           P\n",
      "...         ...        ...        ...         ...\n",
      "1595   PSINNETP         -1          N           E\n",
      "1596   PDIVIYQY         -1          I           Y\n",
      "1597   WYQLEKEP         -1          E           K\n",
      "1598   TVNDIQKL         -1          I           Q\n",
      "1599   FSVPLDED         -1          L           D\n",
      "1600   IFQSSMTK         -1          S           M\n",
      "1601   WTEYWQAT         -1          W           Q\n",
      "1602   TKLGKAGY         -1          K           A\n",
      "1603   ETKLGKAG         -1          G           K\n",
      "1604   TVPVKLKP         -1          K           L\n",
      "1605   PAIFQSSM         -1          Q           S\n",
      "1606   FKLPIQKE         -1          I           Q\n",
      "1607   NQKTELQA         -1          E           L\n",
      "1608   KAGYVTNK         -1          V           T\n",
      "1609   WIPEWEFV         -1          W           E\n",
      "1610   HDHDHPFH         -1          H           P\n",
      "1611   ELELAENR          1          A           E\n",
      "1612   GWILGEHG          1          G           E\n",
      "1613   HYGFPTYG          1          P           T\n",
      "1614   GDAYFSVP          1          F           S\n",
      "1615   LWMGYELH          1          Y           E\n",
      "1616   EKVYLAWV          1          L           A\n",
      "1617   VEICTEME          1          T           E\n",
      "1618   TQDFWEVQ          1          W           E\n",
      "1619   LEVNIVTD          1          I           V\n",
      "1620   QMIFEEHG          1          E           E\n",
      "1621   GWILAEHG          1          A           E\n",
      "1622   QAIYLALQ          1          L           A\n",
      "1623   DSADAEED          1          A           E\n",
      "1624   SKDLIAEI          1          I           A\n",
      "\n",
      "[1625 rows x 4 columns]\n"
     ]
    }
   ],
   "source": [
    "dataset['FirstValue'] = dataset.iloc[:,0].str[4].values\n",
    "dataset['SecondValue'] = dataset.iloc[:,0].str[5].values\n",
    "\n",
    "print(dataset)"
   ]
  },
  {
   "cell_type": "code",
   "execution_count": 19,
   "metadata": {
    "collapsed": false
   },
   "outputs": [
    {
     "name": "stdout",
     "output_type": "stream",
     "text": [
      "<class 'numpy.ndarray'>\n"
     ]
    }
   ],
   "source": [
    "X=dataset.iloc[:,[2,3]].values#.iloc[:,2].values\n",
    "y = dataset.iloc[:, 1].values\n",
    "\n",
    "print(type(X))"
   ]
  },
  {
   "cell_type": "code",
   "execution_count": 33,
   "metadata": {
    "collapsed": false
   },
   "outputs": [],
   "source": [
    "from sklearn.preprocessing import LabelEncoder\n",
    "labelencoder_X=LabelEncoder()\n",
    "X[:,0]=labelencoder_X.fit_transform(X[:,0])\n",
    "X[:,1]=labelencoder_X.fit_transform(X[:,1])"
   ]
  },
  {
   "cell_type": "code",
   "execution_count": 34,
   "metadata": {
    "collapsed": false
   },
   "outputs": [
    {
     "name": "stdout",
     "output_type": "stream",
     "text": [
      "     Amino_Acid  Predictor FirstValue SecondValue\n",
      "0      SLNLRETN          1          R           E\n",
      "1      AECFRIFD          1          R           I\n",
      "2      HLVEALYL          1          A           L\n",
      "3      TQIMFETF          1          F           E\n",
      "4      AEELAEIF          1          A           E\n",
      "5      PFIFEEEP          1          E           E\n",
      "6      PIVGAETF          1          A           E\n",
      "7      ETTALVCD          1          L           V\n",
      "8      GGVYATRS          1          A           T\n",
      "9      DAINTEFK          1          T           E\n",
      "10     DDLFFEAD          1          F           E\n",
      "11     SFIGMESA          1          M           E\n",
      "12     PTLLTEAP          1          T           E\n",
      "13     DQILIEIC          1          I           E\n",
      "14     AQTFYVNL          1          Y           V\n",
      "15     QITLWQRP          1          W           Q\n",
      "16     GSHLVEAL          1          V           E\n",
      "17     REAFRVFD          1          R           V\n",
      "18     YEEFVQMM          1          V           Q\n",
      "19     GQVNYEEF          1          Y           E\n",
      "20     LPVNGEFS          1          G           E\n",
      "21     ELEFPEGG          1          P           E\n",
      "22     VEVAEEEE          1          E           E\n",
      "23     DTVLEEMS          1          E           E\n",
      "24     GDALLERN          1          L           E\n",
      "25     AAKFERQH         -1          E           R\n",
      "26     MDSSTSAA         -1          T           S\n",
      "27     SSNYCNQM         -1          C           N\n",
      "28     TPGSRNLC         -1          R           N\n",
      "29     GSSKYPNC         -1          Y           P\n",
      "...         ...        ...        ...         ...\n",
      "1595   PSINNETP         -1          N           E\n",
      "1596   PDIVIYQY         -1          I           Y\n",
      "1597   WYQLEKEP         -1          E           K\n",
      "1598   TVNDIQKL         -1          I           Q\n",
      "1599   FSVPLDED         -1          L           D\n",
      "1600   IFQSSMTK         -1          S           M\n",
      "1601   WTEYWQAT         -1          W           Q\n",
      "1602   TKLGKAGY         -1          K           A\n",
      "1603   ETKLGKAG         -1          G           K\n",
      "1604   TVPVKLKP         -1          K           L\n",
      "1605   PAIFQSSM         -1          Q           S\n",
      "1606   FKLPIQKE         -1          I           Q\n",
      "1607   NQKTELQA         -1          E           L\n",
      "1608   KAGYVTNK         -1          V           T\n",
      "1609   WIPEWEFV         -1          W           E\n",
      "1610   HDHDHPFH         -1          H           P\n",
      "1611   ELELAENR          1          A           E\n",
      "1612   GWILGEHG          1          G           E\n",
      "1613   HYGFPTYG          1          P           T\n",
      "1614   GDAYFSVP          1          F           S\n",
      "1615   LWMGYELH          1          Y           E\n",
      "1616   EKVYLAWV          1          L           A\n",
      "1617   VEICTEME          1          T           E\n",
      "1618   TQDFWEVQ          1          W           E\n",
      "1619   LEVNIVTD          1          I           V\n",
      "1620   QMIFEEHG          1          E           E\n",
      "1621   GWILAEHG          1          A           E\n",
      "1622   QAIYLALQ          1          L           A\n",
      "1623   DSADAEED          1          A           E\n",
      "1624   SKDLIAEI          1          I           A\n",
      "\n",
      "[1625 rows x 4 columns]\n",
      "[ 1  1  1 ..., -1  1 -1]\n",
      "[-1  1]\n"
     ]
    }
   ],
   "source": [
    "print(dataset)\n",
    "\n",
    "y_pred = classifier.predict(X_train)\n",
    "print(y_pred)\n",
    "print(np.unique(y_pred))"
   ]
  },
  {
   "cell_type": "code",
   "execution_count": 35,
   "metadata": {
    "collapsed": true
   },
   "outputs": [],
   "source": [
    "from sklearn.cross_validation import train_test_split\n",
    "X_train, X_test, y_train, y_test = train_test_split(X, y, test_size = 0.25, random_state = 0)"
   ]
  },
  {
   "cell_type": "code",
   "execution_count": 36,
   "metadata": {
    "collapsed": false
   },
   "outputs": [
    {
     "data": {
      "text/plain": [
       "RandomForestClassifier(bootstrap=True, class_weight=None, criterion='entropy',\n",
       "            max_depth=None, max_features='auto', max_leaf_nodes=None,\n",
       "            min_samples_leaf=1, min_samples_split=2,\n",
       "            min_weight_fraction_leaf=0.0, n_estimators=10, n_jobs=1,\n",
       "            oob_score=False, random_state=0, verbose=0, warm_start=False)"
      ]
     },
     "execution_count": 36,
     "metadata": {},
     "output_type": "execute_result"
    }
   ],
   "source": [
    "from sklearn.ensemble import RandomForestClassifier\n",
    "classifier=RandomForestClassifier(n_estimators=10,criterion='entropy',random_state=0)\n",
    "classifier.fit(X_train,y_train)"
   ]
  },
  {
   "cell_type": "code",
   "execution_count": 38,
   "metadata": {
    "collapsed": false
   },
   "outputs": [
    {
     "name": "stdout",
     "output_type": "stream",
     "text": [
      "[[885  55]\n",
      " [ 71 207]]\n",
      "Accuracy Score : 0.896551724138\n"
     ]
    }
   ],
   "source": [
    "from sklearn.metrics import confusion_matrix\n",
    "cm = confusion_matrix(y_train, y_pred)\n",
    "print(cm)\n",
    "\n",
    "from sklearn.metrics import accuracy_score\n",
    "print ('Accuracy Score :',accuracy_score(y_train, y_pred) )\n",
    "\n",
    "# # Visualising the Training set results\n",
    "from matplotlib.colors import ListedColormap\n",
    "X_set, y_set = X_train, y_train\n",
    "X1, X2 = np.meshgrid(np.arange(start = X_set[:, 0].min() - 1, stop = X_set[:, 0].max() + 1, step = 0.01),\n",
    "                     np.arange(start = X_set[:, 1].min() - 1, stop = X_set[:, 1].max() + 1, step = 0.01))\n",
    "plt.contourf(X1, X2, classifier.predict(np.array([X1.ravel(), X2.ravel()]).T).reshape(X1.shape),\n",
    "             alpha = 0.75, cmap = ListedColormap(('red', 'green')))\n",
    "plt.xlim(X1.min(), X1.max())\n",
    "plt.ylim(X2.min(), X2.max())\n",
    "for i, j in enumerate(np.unique(y_set)):\n",
    "    plt.scatter(X_set[y_set == j, 0], X_set[y_set == j, 1],\n",
    "                c = ListedColormap(('red', 'green'))(i), label = j)\n",
    "plt.title('Random Forest(Training set)')\n",
    "plt.xlabel('Amino Acid')\n",
    "plt.ylabel('Predictor')\n",
    "plt.legend()\n",
    "plt.show()"
   ]
  }
 ],
 "metadata": {
  "kernelspec": {
   "display_name": "Python [Root]",
   "language": "python",
   "name": "Python [Root]"
  },
  "language_info": {
   "codemirror_mode": {
    "name": "ipython",
    "version": 3
   },
   "file_extension": ".py",
   "mimetype": "text/x-python",
   "name": "python",
   "nbconvert_exporter": "python",
   "pygments_lexer": "ipython3",
   "version": "3.5.2"
  }
 },
 "nbformat": 4,
 "nbformat_minor": 0
}
